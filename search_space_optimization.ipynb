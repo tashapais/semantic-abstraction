{
 "cells": [
  {
   "cell_type": "code",
   "execution_count": null,
   "id": "d751f9d9-ed03-4022-bb48-d34c101b06c7",
   "metadata": {},
   "outputs": [],
   "source": [
    "import concatenated_point_cloud\n",
    "import search_space_optimization\n",
    "import pickle\n",
    "import importlib\n",
    "import numpy as np"
   ]
  },
  {
   "cell_type": "code",
   "execution_count": null,
   "id": "47c81b4b-f76f-4095-88f1-608a23e60098",
   "metadata": {},
   "outputs": [],
   "source": [
    "importlib.reload(concatenated_point_cloud)\n",
    "importlib.reload(search_space_optimization)"
   ]
  },
  {
   "cell_type": "code",
   "execution_count": null,
   "id": "8c2bfe6d-62db-491f-b6d8-3c2b2fc67e9d",
   "metadata": {},
   "outputs": [],
   "source": []
  },
  {
   "cell_type": "code",
   "execution_count": 114,
   "id": "533cb35d-015d-447d-a0e7-d35fd6165fa2",
   "metadata": {},
   "outputs": [],
   "source": [
    "positions = np.array([[1.2,1.87,-1.4],\n",
    "                      [0.8,1.87,-1.4],\n",
    "                      [0.3,1.67,-1.7]])"
   ]
  },
  {
   "cell_type": "code",
   "execution_count": 47,
   "id": "448f8f02-ceaf-4e8e-ad32-468bfa7b5912",
   "metadata": {},
   "outputs": [
    {
     "name": "stdout",
     "output_type": "stream",
     "text": [
      "{0: 9, 1: 1, 2: 0}\n"
     ]
    }
   ],
   "source": [
    "#For the manual search \n",
    "test_runs = 100000\n",
    "correctly_classified = 0\n",
    "\n",
    "for i in range(test_runs):\n",
    "    elements  = [0,1,2]\n",
    "    probabilities = [0.70,0.20,0.10]\n",
    "\n",
    "    placement = np.random.choice(elements, p=probabilities)\n",
    "    \n",
    "    random_probs = [1/3,1/3,1/3]\n",
    "    \n",
    "    choice = np.random.choice(elements, p=random_probs)\n",
    "    \n",
    "    \n",
    "    \n",
    "    \n"
   ]
  },
  {
   "cell_type": "code",
   "execution_count": 107,
   "id": "f7f22300-d7dd-49a0-9fbd-594f0feff422",
   "metadata": {},
   "outputs": [
    {
     "name": "stdout",
     "output_type": "stream",
     "text": [
      "110002.89411374083\n",
      "avg time to find object= 1.1000289411374082\n"
     ]
    }
   ],
   "source": []
  },
  {
   "cell_type": "code",
   "execution_count": null,
   "id": "6b740783-f106-491e-95fe-017521d190f3",
   "metadata": {},
   "outputs": [],
   "source": []
  },
  {
   "cell_type": "code",
   "execution_count": null,
   "id": "2b91e25e-328b-453e-ac88-a0cf78437fb7",
   "metadata": {},
   "outputs": [],
   "source": []
  },
  {
   "cell_type": "code",
   "execution_count": null,
   "id": "0be702c7-fec4-4206-a3e5-4bdf31b8ba6e",
   "metadata": {},
   "outputs": [],
   "source": []
  }
 ],
 "metadata": {
  "environment": {
   "kernel": "python3",
   "name": "pytorch-gpu.1-12.m100",
   "type": "gcloud",
   "uri": "gcr.io/deeplearning-platform-release/pytorch-gpu.1-12:m100"
  },
  "kernelspec": {
   "display_name": "Python 3",
   "language": "python",
   "name": "python3"
  },
  "language_info": {
   "codemirror_mode": {
    "name": "ipython",
    "version": 3
   },
   "file_extension": ".py",
   "mimetype": "text/x-python",
   "name": "python",
   "nbconvert_exporter": "python",
   "pygments_lexer": "ipython3",
   "version": "3.7.12"
  }
 },
 "nbformat": 4,
 "nbformat_minor": 5
}
